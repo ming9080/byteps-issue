{
  "nbformat": 4,
  "nbformat_minor": 0,
  "metadata": {
    "colab": {
      "name": "Python for SEO.ipynb",
      "provenance": [],
      "collapsed_sections": []
    },
    "kernelspec": {
      "name": "python3",
      "display_name": "Python 3"
    }
  },
  "cells": [
    {
      "cell_type": "markdown",
      "metadata": {
        "id": "fIpoojalU9T2",
        "colab_type": "text"
      },
      "source": [
        "# **Using Docker and nvidia-docker2 on Collab**"
      ]
    },
    {
      "cell_type": "markdown",
      "metadata": {
        "id": "wWvOaVoAXKbh",
        "colab_type": "text"
      },
      "source": [
        ""
      ]
    },
    {
      "cell_type": "markdown",
      "metadata": {
        "id": "6J8LSVAJoSf3",
        "colab_type": "text"
      },
      "source": [
        "## Installing Docker, Python 3 and TensorFlow"
      ]
    },
    {
      "cell_type": "code",
      "metadata": {
        "id": "RbL5mjMgvkCt",
        "colab_type": "code",
        "colab": {
          "base_uri": "https://localhost:8080/",
          "height": 510
        },
        "outputId": "beecd6ae-5cb7-4abb-cd2f-034826b0c814"
      },
      "source": [
        "! sudo apt update"
      ],
      "execution_count": 2,
      "outputs": [
        {
          "output_type": "stream",
          "text": [
            "Get:1 https://cloud.r-project.org/bin/linux/ubuntu bionic-cran35/ InRelease [3,626 B]\n",
            "Ign:2 https://developer.download.nvidia.com/compute/cuda/repos/ubuntu1804/x86_64  InRelease\n",
            "Get:3 http://ppa.launchpad.net/graphics-drivers/ppa/ubuntu bionic InRelease [21.3 kB]\n",
            "Get:4 http://security.ubuntu.com/ubuntu bionic-security InRelease [88.7 kB]\n",
            "Ign:5 https://developer.download.nvidia.com/compute/machine-learning/repos/ubuntu1804/x86_64  InRelease\n",
            "Hit:6 https://developer.download.nvidia.com/compute/cuda/repos/ubuntu1804/x86_64  Release\n",
            "Hit:7 https://developer.download.nvidia.com/compute/machine-learning/repos/ubuntu1804/x86_64  Release\n",
            "Hit:8 http://archive.ubuntu.com/ubuntu bionic InRelease\n",
            "Get:9 http://archive.ubuntu.com/ubuntu bionic-updates InRelease [88.7 kB]\n",
            "Get:10 https://cloud.r-project.org/bin/linux/ubuntu bionic-cran35/ Packages [83.1 kB]\n",
            "Get:12 http://ppa.launchpad.net/marutter/c2d4u3.5/ubuntu bionic InRelease [15.4 kB]\n",
            "Get:14 http://archive.ubuntu.com/ubuntu bionic-backports InRelease [74.6 kB]\n",
            "Get:15 http://ppa.launchpad.net/graphics-drivers/ppa/ubuntu bionic/main amd64 Packages [36.9 kB]\n",
            "Get:16 http://security.ubuntu.com/ubuntu bionic-security/universe amd64 Packages [818 kB]\n",
            "Get:17 http://archive.ubuntu.com/ubuntu bionic-updates/multiverse amd64 Packages [11.1 kB]\n",
            "Get:18 http://archive.ubuntu.com/ubuntu bionic-updates/universe amd64 Packages [1,345 kB]\n",
            "Get:19 http://ppa.launchpad.net/marutter/c2d4u3.5/ubuntu bionic/main Sources [1,771 kB]\n",
            "Get:20 http://security.ubuntu.com/ubuntu bionic-security/multiverse amd64 Packages [7,064 B]\n",
            "Get:21 http://security.ubuntu.com/ubuntu bionic-security/main amd64 Packages [817 kB]\n",
            "Get:22 http://security.ubuntu.com/ubuntu bionic-security/restricted amd64 Packages [27.5 kB]\n",
            "Get:23 http://archive.ubuntu.com/ubuntu bionic-updates/main amd64 Packages [1,104 kB]\n",
            "Get:24 http://archive.ubuntu.com/ubuntu bionic-updates/restricted amd64 Packages [41.2 kB]\n",
            "Get:25 http://archive.ubuntu.com/ubuntu bionic-backports/universe amd64 Packages [4,252 B]\n",
            "Get:26 http://ppa.launchpad.net/marutter/c2d4u3.5/ubuntu bionic/main amd64 Packages [854 kB]\n",
            "Fetched 7,212 kB in 3s (2,726 kB/s)\n",
            "Reading package lists... Done\n",
            "Building dependency tree       \n",
            "Reading state information... Done\n",
            "93 packages can be upgraded. Run 'apt list --upgradable' to see them.\n"
          ],
          "name": "stdout"
        }
      ]
    },
    {
      "cell_type": "markdown",
      "metadata": {
        "id": "6vdmf9C2voTa",
        "colab_type": "text"
      },
      "source": [
        "Now we want to install some  prerequisite packages which will let us use HTTPS over apt."
      ]
    },
    {
      "cell_type": "code",
      "metadata": {
        "id": "e9htmZ-zv-M6",
        "colab_type": "code",
        "colab": {
          "base_uri": "https://localhost:8080/",
          "height": 493
        },
        "outputId": "28635977-ad9b-41ca-f92c-b5c5246f8313"
      },
      "source": [
        "! sudo apt install apt-transport-https ca-certificates curl software-properties-common"
      ],
      "execution_count": 3,
      "outputs": [
        {
          "output_type": "stream",
          "text": [
            "Reading package lists... Done\n",
            "Building dependency tree       \n",
            "Reading state information... Done\n",
            "ca-certificates is already the newest version (20180409).\n",
            "curl is already the newest version (7.58.0-2ubuntu3.8).\n",
            "software-properties-common is already the newest version (0.96.24.32.12).\n",
            "The following package was automatically installed and is no longer required:\n",
            "  libnvidia-common-430\n",
            "Use 'sudo apt autoremove' to remove it.\n",
            "The following NEW packages will be installed:\n",
            "  apt-transport-https\n",
            "0 upgraded, 1 newly installed, 0 to remove and 93 not upgraded.\n",
            "Need to get 1,692 B of archives.\n",
            "After this operation, 153 kB of additional disk space will be used.\n",
            "Get:1 http://archive.ubuntu.com/ubuntu bionic-updates/universe amd64 apt-transport-https all 1.6.12 [1,692 B]\n",
            "Fetched 1,692 B in 0s (9,553 B/s)\n",
            "debconf: unable to initialize frontend: Dialog\n",
            "debconf: (No usable dialog-like program is installed, so the dialog based frontend cannot be used. at /usr/share/perl5/Debconf/FrontEnd/Dialog.pm line 76, <> line 1.)\n",
            "debconf: falling back to frontend: Readline\n",
            "debconf: unable to initialize frontend: Readline\n",
            "debconf: (This frontend requires a controlling tty.)\n",
            "debconf: falling back to frontend: Teletype\n",
            "dpkg-preconfigure: unable to re-open stdin: \n",
            "Selecting previously unselected package apt-transport-https.\n",
            "(Reading database ... 134443 files and directories currently installed.)\n",
            "Preparing to unpack .../apt-transport-https_1.6.12_all.deb ...\n",
            "Unpacking apt-transport-https (1.6.12) ...\n",
            "Setting up apt-transport-https (1.6.12) ...\n"
          ],
          "name": "stdout"
        }
      ]
    },
    {
      "cell_type": "markdown",
      "metadata": {
        "id": "_DGGnjQzwAgR",
        "colab_type": "text"
      },
      "source": [
        "After that we will add the GPG key for the official Docker repository to the system."
      ]
    },
    {
      "cell_type": "code",
      "metadata": {
        "id": "eCRpmzItwH09",
        "colab_type": "code",
        "colab": {
          "base_uri": "https://localhost:8080/",
          "height": 34
        },
        "outputId": "0854f818-d0a9-4930-a9a9-3b3f6301292d"
      },
      "source": [
        "! curl -fsSL https://download.docker.com/linux/ubuntu/gpg | sudo apt-key add -"
      ],
      "execution_count": 4,
      "outputs": [
        {
          "output_type": "stream",
          "text": [
            "OK\n"
          ],
          "name": "stdout"
        }
      ]
    },
    {
      "cell_type": "markdown",
      "metadata": {
        "id": "JPZm3dlHwKFc",
        "colab_type": "text"
      },
      "source": [
        "We will need to add the Docker repository to our APT sources:"
      ]
    },
    {
      "cell_type": "code",
      "metadata": {
        "id": "9jAq80YPwQ38",
        "colab_type": "code",
        "colab": {
          "base_uri": "https://localhost:8080/",
          "height": 272
        },
        "outputId": "0d3cd2f1-ddd2-471d-8875-1ca3bdfb49ce"
      },
      "source": [
        "! sudo add-apt-repository \"deb [arch=amd64] https://download.docker.com/linux/ubuntu bionic stable\""
      ],
      "execution_count": 5,
      "outputs": [
        {
          "output_type": "stream",
          "text": [
            "\r0% [Working]\r            \rHit:1 https://cloud.r-project.org/bin/linux/ubuntu bionic-cran35/ InRelease\n",
            "\r0% [Waiting for headers] [Waiting for headers] [Waiting for headers] [Waiting f\r                                                                               \rGet:2 https://download.docker.com/linux/ubuntu bionic InRelease [64.4 kB]\n",
            "Ign:3 https://developer.download.nvidia.com/compute/cuda/repos/ubuntu1804/x86_64  InRelease\n",
            "Hit:4 http://ppa.launchpad.net/graphics-drivers/ppa/ubuntu bionic InRelease\n",
            "Hit:5 http://archive.ubuntu.com/ubuntu bionic InRelease\n",
            "Hit:6 http://security.ubuntu.com/ubuntu bionic-security InRelease\n",
            "Ign:7 https://developer.download.nvidia.com/compute/machine-learning/repos/ubuntu1804/x86_64  InRelease\n",
            "Hit:8 https://developer.download.nvidia.com/compute/cuda/repos/ubuntu1804/x86_64  Release\n",
            "Hit:9 https://developer.download.nvidia.com/compute/machine-learning/repos/ubuntu1804/x86_64  Release\n",
            "Hit:10 http://archive.ubuntu.com/ubuntu bionic-updates InRelease\n",
            "Hit:11 http://archive.ubuntu.com/ubuntu bionic-backports InRelease\n",
            "Hit:12 http://ppa.launchpad.net/marutter/c2d4u3.5/ubuntu bionic InRelease\n",
            "Get:13 https://download.docker.com/linux/ubuntu bionic/stable amd64 Packages [10.9 kB]\n",
            "Fetched 75.3 kB in 1s (70.2 kB/s)\n",
            "Reading package lists... Done\n"
          ],
          "name": "stdout"
        }
      ]
    },
    {
      "cell_type": "markdown",
      "metadata": {
        "id": "Vf5oXIURwYMk",
        "colab_type": "text"
      },
      "source": [
        "Next lets update the package database with our newly added Docker package repo."
      ]
    },
    {
      "cell_type": "code",
      "metadata": {
        "id": "jNsJAeLhwew5",
        "colab_type": "code",
        "colab": {
          "base_uri": "https://localhost:8080/",
          "height": 289
        },
        "outputId": "986699eb-ee01-494d-924d-a99d61af0aaa"
      },
      "source": [
        "!sudo apt update"
      ],
      "execution_count": 6,
      "outputs": [
        {
          "output_type": "stream",
          "text": [
            "\u001b[33m\r0% [Working]\u001b[0m\r            \rHit:1 https://download.docker.com/linux/ubuntu bionic InRelease\n",
            "\u001b[33m\r0% [Waiting for headers] [Waiting for headers] [Waiting for headers] [Waiting f\u001b[0m\r                                                                               \rHit:2 https://cloud.r-project.org/bin/linux/ubuntu bionic-cran35/ InRelease\n",
            "\r                                                                               \rIgn:3 https://developer.download.nvidia.com/compute/cuda/repos/ubuntu1804/x86_64  InRelease\n",
            "\u001b[33m\r0% [Waiting for headers] [Waiting for headers] [Waiting for headers] [Waiting f\u001b[0m\u001b[33m\r0% [1 InRelease gpgv 64.4 kB] [Waiting for headers] [Waiting for headers] [Wait\u001b[0m\r                                                                               \rHit:4 http://ppa.launchpad.net/graphics-drivers/ppa/ubuntu bionic InRelease\n",
            "\u001b[33m\r0% [1 InRelease gpgv 64.4 kB] [Waiting for headers] [Waiting for headers] [Wait\u001b[0m\r                                                                               \rHit:5 http://archive.ubuntu.com/ubuntu bionic InRelease\n",
            "\u001b[33m\r0% [1 InRelease gpgv 64.4 kB] [Waiting for headers] [Waiting for headers] [Wait\u001b[0m\r                                                                               \rHit:6 http://security.ubuntu.com/ubuntu bionic-security InRelease\n",
            "\u001b[33m\r0% [1 InRelease gpgv 64.4 kB] [Waiting for headers] [Waiting for headers] [Conn\u001b[0m\r                                                                               \rIgn:7 https://developer.download.nvidia.com/compute/machine-learning/repos/ubuntu1804/x86_64  InRelease\n",
            "\u001b[33m\r0% [1 InRelease gpgv 64.4 kB] [Waiting for headers] [Connecting to ppa.launchpa\u001b[0m\r                                                                               \rHit:8 https://developer.download.nvidia.com/compute/cuda/repos/ubuntu1804/x86_64  Release\n",
            "\u001b[33m\r0% [1 InRelease gpgv 64.4 kB] [Waiting for headers] [Connecting to ppa.launchpa\u001b[0m\u001b[33m\r0% [Waiting for headers] [Waiting for headers] [Connecting to ppa.launchpad.net\u001b[0m\u001b[33m\r0% [2 InRelease gpgv 3,626 B] [Waiting for headers] [Waiting for headers] [Conn\u001b[0m\r                                                                               \rHit:9 https://developer.download.nvidia.com/compute/machine-learning/repos/ubuntu1804/x86_64  Release\n",
            "\u001b[33m\r0% [2 InRelease gpgv 3,626 B] [Waiting for headers] [Connecting to ppa.launchpa\u001b[0m\r                                                                               \rHit:10 http://archive.ubuntu.com/ubuntu bionic-updates InRelease\n",
            "\u001b[33m\r                                                                               \r0% [2 InRelease gpgv 3,626 B] [Waiting for headers] [Waiting for headers]\u001b[0m\u001b[33m\r                                                                         \r0% [Waiting for headers] [Waiting for headers]\u001b[0m\u001b[33m\r0% [4 InRelease gpgv 21.3 kB] [Waiting for headers] [Waiting for headers]\u001b[0m\r                                                                         \rHit:11 http://ppa.launchpad.net/marutter/c2d4u3.5/ubuntu bionic InRelease\n",
            "Hit:12 http://archive.ubuntu.com/ubuntu bionic-backports InRelease\n",
            "Reading package lists... Done\n",
            "Building dependency tree       \n",
            "Reading state information... Done\n",
            "93 packages can be upgraded. Run 'apt list --upgradable' to see them.\n"
          ],
          "name": "stdout"
        }
      ]
    },
    {
      "cell_type": "markdown",
      "metadata": {
        "id": "_BGRycakwhXD",
        "colab_type": "text"
      },
      "source": [
        "Finally lets install docker with the below command:"
      ]
    },
    {
      "cell_type": "code",
      "metadata": {
        "id": "9zp-VmLsws2r",
        "colab_type": "code",
        "colab": {
          "base_uri": "https://localhost:8080/",
          "height": 1000
        },
        "outputId": "a30e5b1a-59ad-4100-d207-642e7fa10448"
      },
      "source": [
        "! sudo apt install docker-ce"
      ],
      "execution_count": 7,
      "outputs": [
        {
          "output_type": "stream",
          "text": [
            "Reading package lists... Done\n",
            "Building dependency tree       \n",
            "Reading state information... Done\n",
            "The following package was automatically installed and is no longer required:\n",
            "  libnvidia-common-430\n",
            "Use 'sudo apt autoremove' to remove it.\n",
            "The following additional packages will be installed:\n",
            "  apparmor aufs-tools cgroupfs-mount containerd.io docker-ce-cli iptables\n",
            "  libip6tc0 libiptc0 libmnl0 libnetfilter-conntrack3 libnfnetlink0\n",
            "  libxtables12 pigz\n",
            "Suggested packages:\n",
            "  apparmor-profiles-extra apparmor-utils\n",
            "The following NEW packages will be installed:\n",
            "  apparmor aufs-tools cgroupfs-mount containerd.io docker-ce docker-ce-cli\n",
            "  iptables libip6tc0 libiptc0 libmnl0 libnetfilter-conntrack3 libnfnetlink0\n",
            "  libxtables12 pigz\n",
            "0 upgraded, 14 newly installed, 0 to remove and 93 not upgraded.\n",
            "Need to get 86.5 MB of archives.\n",
            "After this operation, 388 MB of additional disk space will be used.\n",
            "Get:1 http://archive.ubuntu.com/ubuntu bionic/main amd64 libnfnetlink0 amd64 1.0.1-3 [13.3 kB]\n",
            "Get:2 https://download.docker.com/linux/ubuntu bionic/stable amd64 containerd.io amd64 1.2.10-3 [20.0 MB]\n",
            "Get:3 http://archive.ubuntu.com/ubuntu bionic/universe amd64 pigz amd64 2.4-1 [57.4 kB]\n",
            "Get:4 http://archive.ubuntu.com/ubuntu bionic/main amd64 libmnl0 amd64 1.0.4-2 [12.3 kB]\n",
            "Get:5 http://archive.ubuntu.com/ubuntu bionic/main amd64 libxtables12 amd64 1.6.1-2ubuntu2 [27.9 kB]\n",
            "Get:6 http://archive.ubuntu.com/ubuntu bionic-updates/main amd64 apparmor amd64 2.12-4ubuntu5.1 [487 kB]\n",
            "Get:7 http://archive.ubuntu.com/ubuntu bionic/main amd64 libip6tc0 amd64 1.6.1-2ubuntu2 [19.9 kB]\n",
            "Get:8 http://archive.ubuntu.com/ubuntu bionic/main amd64 libiptc0 amd64 1.6.1-2ubuntu2 [9,308 B]\n",
            "Get:9 http://archive.ubuntu.com/ubuntu bionic/main amd64 libnetfilter-conntrack3 amd64 1.0.6-2 [37.8 kB]\n",
            "Get:10 http://archive.ubuntu.com/ubuntu bionic/main amd64 iptables amd64 1.6.1-2ubuntu2 [269 kB]\n",
            "Get:11 http://archive.ubuntu.com/ubuntu bionic/universe amd64 aufs-tools amd64 1:4.9+20170918-1ubuntu1 [104 kB]\n",
            "Get:12 http://archive.ubuntu.com/ubuntu bionic/universe amd64 cgroupfs-mount all 1.4 [6,320 B]\n",
            "Get:13 https://download.docker.com/linux/ubuntu bionic/stable amd64 docker-ce-cli amd64 5:19.03.6~3-0~ubuntu-bionic [42.5 MB]\n",
            "Get:14 https://download.docker.com/linux/ubuntu bionic/stable amd64 docker-ce amd64 5:19.03.6~3-0~ubuntu-bionic [22.9 MB]\n",
            "Fetched 86.5 MB in 3s (26.2 MB/s)\n",
            "debconf: unable to initialize frontend: Dialog\n",
            "debconf: (No usable dialog-like program is installed, so the dialog based frontend cannot be used. at /usr/share/perl5/Debconf/FrontEnd/Dialog.pm line 76, <> line 14.)\n",
            "debconf: falling back to frontend: Readline\n",
            "debconf: unable to initialize frontend: Readline\n",
            "debconf: (This frontend requires a controlling tty.)\n",
            "debconf: falling back to frontend: Teletype\n",
            "dpkg-preconfigure: unable to re-open stdin: \n",
            "Selecting previously unselected package libnfnetlink0:amd64.\n",
            "(Reading database ... 134447 files and directories currently installed.)\n",
            "Preparing to unpack .../00-libnfnetlink0_1.0.1-3_amd64.deb ...\n",
            "Unpacking libnfnetlink0:amd64 (1.0.1-3) ...\n",
            "Selecting previously unselected package pigz.\n",
            "Preparing to unpack .../01-pigz_2.4-1_amd64.deb ...\n",
            "Unpacking pigz (2.4-1) ...\n",
            "Selecting previously unselected package libmnl0:amd64.\n",
            "Preparing to unpack .../02-libmnl0_1.0.4-2_amd64.deb ...\n",
            "Unpacking libmnl0:amd64 (1.0.4-2) ...\n",
            "Selecting previously unselected package libxtables12:amd64.\n",
            "Preparing to unpack .../03-libxtables12_1.6.1-2ubuntu2_amd64.deb ...\n",
            "Unpacking libxtables12:amd64 (1.6.1-2ubuntu2) ...\n",
            "Selecting previously unselected package apparmor.\n",
            "Preparing to unpack .../04-apparmor_2.12-4ubuntu5.1_amd64.deb ...\n",
            "Unpacking apparmor (2.12-4ubuntu5.1) ...\n",
            "Selecting previously unselected package libip6tc0:amd64.\n",
            "Preparing to unpack .../05-libip6tc0_1.6.1-2ubuntu2_amd64.deb ...\n",
            "Unpacking libip6tc0:amd64 (1.6.1-2ubuntu2) ...\n",
            "Selecting previously unselected package libiptc0:amd64.\n",
            "Preparing to unpack .../06-libiptc0_1.6.1-2ubuntu2_amd64.deb ...\n",
            "Unpacking libiptc0:amd64 (1.6.1-2ubuntu2) ...\n",
            "Selecting previously unselected package libnetfilter-conntrack3:amd64.\n",
            "Preparing to unpack .../07-libnetfilter-conntrack3_1.0.6-2_amd64.deb ...\n",
            "Unpacking libnetfilter-conntrack3:amd64 (1.0.6-2) ...\n",
            "Selecting previously unselected package iptables.\n",
            "Preparing to unpack .../08-iptables_1.6.1-2ubuntu2_amd64.deb ...\n",
            "Unpacking iptables (1.6.1-2ubuntu2) ...\n",
            "Selecting previously unselected package aufs-tools.\n",
            "Preparing to unpack .../09-aufs-tools_1%3a4.9+20170918-1ubuntu1_amd64.deb ...\n",
            "Unpacking aufs-tools (1:4.9+20170918-1ubuntu1) ...\n",
            "Selecting previously unselected package cgroupfs-mount.\n",
            "Preparing to unpack .../10-cgroupfs-mount_1.4_all.deb ...\n",
            "Unpacking cgroupfs-mount (1.4) ...\n",
            "Selecting previously unselected package containerd.io.\n",
            "Preparing to unpack .../11-containerd.io_1.2.10-3_amd64.deb ...\n",
            "Unpacking containerd.io (1.2.10-3) ...\n",
            "Selecting previously unselected package docker-ce-cli.\n",
            "Preparing to unpack .../12-docker-ce-cli_5%3a19.03.6~3-0~ubuntu-bionic_amd64.deb ...\n",
            "Unpacking docker-ce-cli (5:19.03.6~3-0~ubuntu-bionic) ...\n",
            "Selecting previously unselected package docker-ce.\n",
            "Preparing to unpack .../13-docker-ce_5%3a19.03.6~3-0~ubuntu-bionic_amd64.deb ...\n",
            "Unpacking docker-ce (5:19.03.6~3-0~ubuntu-bionic) ...\n",
            "Setting up aufs-tools (1:4.9+20170918-1ubuntu1) ...\n",
            "Setting up containerd.io (1.2.10-3) ...\n",
            "Created symlink /etc/systemd/system/multi-user.target.wants/containerd.service → /lib/systemd/system/containerd.service.\n",
            "Setting up libiptc0:amd64 (1.6.1-2ubuntu2) ...\n",
            "Setting up apparmor (2.12-4ubuntu5.1) ...\n",
            "debconf: unable to initialize frontend: Dialog\n",
            "debconf: (No usable dialog-like program is installed, so the dialog based frontend cannot be used. at /usr/share/perl5/Debconf/FrontEnd/Dialog.pm line 76.)\n",
            "debconf: falling back to frontend: Readline\n",
            "Created symlink /etc/systemd/system/sysinit.target.wants/apparmor.service → /lib/systemd/system/apparmor.service.\n",
            "Setting up cgroupfs-mount (1.4) ...\n",
            "invoke-rc.d: could not determine current runlevel\n",
            "invoke-rc.d: policy-rc.d denied execution of start.\n",
            "Setting up libxtables12:amd64 (1.6.1-2ubuntu2) ...\n",
            "Setting up libnfnetlink0:amd64 (1.0.1-3) ...\n",
            "Setting up docker-ce-cli (5:19.03.6~3-0~ubuntu-bionic) ...\n",
            "Setting up libmnl0:amd64 (1.0.4-2) ...\n",
            "Setting up pigz (2.4-1) ...\n",
            "Setting up libip6tc0:amd64 (1.6.1-2ubuntu2) ...\n",
            "Setting up libnetfilter-conntrack3:amd64 (1.0.6-2) ...\n",
            "Setting up iptables (1.6.1-2ubuntu2) ...\n",
            "Setting up docker-ce (5:19.03.6~3-0~ubuntu-bionic) ...\n",
            "Created symlink /etc/systemd/system/multi-user.target.wants/docker.service → /lib/systemd/system/docker.service.\n",
            "Created symlink /etc/systemd/system/sockets.target.wants/docker.socket → /lib/systemd/system/docker.socket.\n",
            "invoke-rc.d: could not determine current runlevel\n",
            "invoke-rc.d: policy-rc.d denied execution of start.\n",
            "Processing triggers for systemd (237-3ubuntu10.38) ...\n",
            "Processing triggers for man-db (2.8.3-2ubuntu0.1) ...\n",
            "Processing triggers for libc-bin (2.27-3ubuntu1) ...\n",
            "/sbin/ldconfig.real: /usr/local/lib/python3.6/dist-packages/ideep4py/lib/libmkldnn.so.0 is not a symbolic link\n",
            "\n"
          ],
          "name": "stdout"
        }
      ]
    },
    {
      "cell_type": "markdown",
      "metadata": {
        "id": "FmXJptVEwueb",
        "colab_type": "text"
      },
      "source": [
        "Now lets check that docker is running. "
      ]
    },
    {
      "cell_type": "code",
      "metadata": {
        "id": "2HXwOXNiw1tO",
        "colab_type": "code",
        "colab": {
          "base_uri": "https://localhost:8080/",
          "height": 34
        },
        "outputId": "ec7c5ff7-6359-4cbf-edda-08c5bb1b763a"
      },
      "source": [
        "! docker images"
      ],
      "execution_count": 11,
      "outputs": [
        {
          "output_type": "stream",
          "text": [
            "Cannot connect to the Docker daemon at unix:///var/run/docker.sock. Is the docker daemon running?\n"
          ],
          "name": "stdout"
        }
      ]
    },
    {
      "cell_type": "code",
      "metadata": {
        "id": "Za_q8mpzFik6",
        "colab_type": "code",
        "colab": {
          "base_uri": "https://localhost:8080/",
          "height": 34
        },
        "outputId": "24f34efe-7f18-49f6-9741-b9f594ba71db"
      },
      "source": [
        "! sudo docker images"
      ],
      "execution_count": 12,
      "outputs": [
        {
          "output_type": "stream",
          "text": [
            "Cannot connect to the Docker daemon at unix:///var/run/docker.sock. Is the docker daemon running?\n"
          ],
          "name": "stdout"
        }
      ]
    },
    {
      "cell_type": "markdown",
      "metadata": {
        "id": "PaeX7h1rw8K3",
        "colab_type": "text"
      },
      "source": [
        "The output from the command should look similar to the one below"
      ]
    },
    {
      "cell_type": "code",
      "metadata": {
        "id": "DjwRuO50w_-q",
        "colab_type": "code",
        "colab": {}
      },
      "source": [
        "Output\n",
        "● docker.service - Docker Application Container Engine\n",
        "   Loaded: loaded (/lib/systemd/system/docker.service; enabled; vendor preset: enabled)\n",
        "   Active: active (running) since Tue 2019-01-01 19:22:114 UTC; 1min 25s ago\n",
        "     Docs: https://docs.docker.com\n",
        " Main PID: 10096 (dockerd)\n",
        "    Tasks: 16\n",
        "   CGroup: /system.slice/docker.service\n",
        "           ├─10096 /usr/bin/dockerd -H fd://\n",
        "           └─10113 docker-containerd --config /var/run/docker/containerd/containerd.toml"
      ],
      "execution_count": 0,
      "outputs": []
    },
    {
      "cell_type": "markdown",
      "metadata": {
        "id": "X22ur1PrxQYN",
        "colab_type": "text"
      },
      "source": [
        "Once we have verified everything is installed and running correctly we can simply run the following command to install the TensorFlow Docker image:"
      ]
    },
    {
      "cell_type": "code",
      "metadata": {
        "id": "8FgZuli4xoF6",
        "colab_type": "code",
        "colab": {}
      },
      "source": [
        "$ docker run -it -p 8888:8888 gcr.io/tensorflow/tensorflow"
      ],
      "execution_count": 0,
      "outputs": []
    },
    {
      "cell_type": "markdown",
      "metadata": {
        "id": "8u-O46-uW7_j",
        "colab_type": "text"
      },
      "source": [
        "Once installed we can move onto the next step."
      ]
    }
  ]
}