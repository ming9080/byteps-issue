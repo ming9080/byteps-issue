{
  "nbformat": 4,
  "nbformat_minor": 0,
  "metadata": {
    "kernelspec": {
      "display_name": "Python 2",
      "language": "python",
      "name": "python2"
    },
    "language_info": {
      "codemirror_mode": {
        "name": "ipython",
        "version": 3
      },
      "file_extension": ".py",
      "mimetype": "text/x-python",
      "name": "python",
      "nbconvert_exporter": "python",
      "pygments_lexer": "ipython3",
      "version": "3.7.4"
    },
    "colab": {
      "name": "docker_basics.ipynb",
      "provenance": [],
      "include_colab_link": true
    }
  },
  "cells": [
    {
      "cell_type": "markdown",
      "metadata": {
        "id": "view-in-github",
        "colab_type": "text"
      },
      "source": [
        "<a href=\"https://colab.research.google.com/github/ming9080/deep-stuff/blob/master/docker_basics.ipynb\" target=\"_parent\"><img src=\"https://colab.research.google.com/assets/colab-badge.svg\" alt=\"Open In Colab\"/></a>"
      ]
    },
    {
      "cell_type": "markdown",
      "metadata": {
        "id": "7sFkzw6V1weq",
        "colab_type": "text"
      },
      "source": [
        "## Docker basics"
      ]
    },
    {
      "cell_type": "code",
      "metadata": {
        "id": "Klg6GHeg1wet",
        "colab_type": "code",
        "colab": {
          "base_uri": "https://localhost:8080/",
          "height": 80
        },
        "outputId": "7f67439e-28a7-4cf6-d44e-253aaf280dfd"
      },
      "source": [
        "%reset -f\n",
        "import matplotlib.pyplot as plt\n",
        "import pandas as pd\n",
        "import numpy as np\n",
        "import pandas as pd\n",
        "%matplotlib inline\n",
        "import seaborn as sns\n",
        "sns.set(style=\"whitegrid\", palette=\"muted\", color_codes=True)\n",
        "\n",
        "\n",
        "import tensorflow as tf; \n",
        "print('TF version:' + tf.__version__)"
      ],
      "execution_count": 1,
      "outputs": [
        {
          "output_type": "display_data",
          "data": {
            "text/plain": [
              "<IPython.core.display.HTML object>"
            ],
            "text/html": [
              "<p style=\"color: red;\">\n",
              "The default version of TensorFlow in Colab will soon switch to TensorFlow 2.x.<br>\n",
              "We recommend you <a href=\"https://www.tensorflow.org/guide/migrate\" target=\"_blank\">upgrade</a> now \n",
              "or ensure your notebook will continue to use TensorFlow 1.x via the <code>%tensorflow_version 1.x</code> magic:\n",
              "<a href=\"https://colab.research.google.com/notebooks/tensorflow_version.ipynb\" target=\"_blank\">more info</a>.</p>\n"
            ]
          },
          "metadata": {
            "tags": []
          }
        },
        {
          "output_type": "stream",
          "text": [
            "TF version:1.15.0\n"
          ],
          "name": "stdout"
        }
      ]
    },
    {
      "cell_type": "markdown",
      "metadata": {
        "id": "BugWqhkQ1wez",
        "colab_type": "text"
      },
      "source": [
        "## Versions"
      ]
    },
    {
      "cell_type": "code",
      "metadata": {
        "id": "mFo6sYvU1we0",
        "colab_type": "code",
        "colab": {
          "base_uri": "https://localhost:8080/",
          "height": 697
        },
        "outputId": "a03dc7bf-a8e2-4915-c8aa-f0ea0abe7bad"
      },
      "source": [
        "! pip install watermark\n",
        "import os\n",
        "print(\"Path at terminal when executing this file\")\n",
        "print(os.getcwd() + \"\\n\")\n",
        "\n",
        "%matplotlib inline\n",
        "%load_ext watermark\n",
        "%watermark -d -v -m -p pandas,scipy,matplotlib"
      ],
      "execution_count": 2,
      "outputs": [
        {
          "output_type": "stream",
          "text": [
            "Collecting watermark\n",
            "  Downloading https://files.pythonhosted.org/packages/60/fe/3ed83b6122e70dce6fe269dfd763103c333f168bf91037add73ea4fe81c2/watermark-2.0.2-py2.py3-none-any.whl\n",
            "Requirement already satisfied: ipython in /usr/local/lib/python2.7/dist-packages (from watermark) (5.5.0)\n",
            "Requirement already satisfied: simplegeneric>0.8 in /usr/local/lib/python2.7/dist-packages (from ipython->watermark) (0.8.1)\n",
            "Requirement already satisfied: pickleshare in /usr/local/lib/python2.7/dist-packages (from ipython->watermark) (0.7.5)\n",
            "Requirement already satisfied: backports.shutil-get-terminal-size; python_version == \"2.7\" in /usr/local/lib/python2.7/dist-packages (from ipython->watermark) (1.0.0)\n",
            "Requirement already satisfied: pathlib2; python_version == \"2.7\" or python_version == \"3.3\" in /usr/local/lib/python2.7/dist-packages (from ipython->watermark) (2.3.4)\n",
            "Requirement already satisfied: pexpect; sys_platform != \"win32\" in /usr/local/lib/python2.7/dist-packages (from ipython->watermark) (4.7.0)\n",
            "Requirement already satisfied: traitlets>=4.2 in /usr/local/lib/python2.7/dist-packages (from ipython->watermark) (4.3.2)\n",
            "Requirement already satisfied: pygments in /usr/local/lib/python2.7/dist-packages (from ipython->watermark) (2.1.3)\n",
            "Requirement already satisfied: decorator in /usr/local/lib/python2.7/dist-packages (from ipython->watermark) (4.4.0)\n",
            "Requirement already satisfied: prompt-toolkit<2.0.0,>=1.0.4 in /usr/local/lib/python2.7/dist-packages (from ipython->watermark) (1.0.16)\n",
            "Requirement already satisfied: setuptools>=18.5 in /usr/local/lib/python2.7/dist-packages (from ipython->watermark) (44.0.0)\n",
            "Requirement already satisfied: six in /usr/local/lib/python2.7/dist-packages (from pathlib2; python_version == \"2.7\" or python_version == \"3.3\"->ipython->watermark) (1.12.0)\n",
            "Requirement already satisfied: scandir; python_version < \"3.5\" in /usr/local/lib/python2.7/dist-packages (from pathlib2; python_version == \"2.7\" or python_version == \"3.3\"->ipython->watermark) (1.10.0)\n",
            "Requirement already satisfied: ptyprocess>=0.5 in /usr/local/lib/python2.7/dist-packages (from pexpect; sys_platform != \"win32\"->ipython->watermark) (0.6.0)\n",
            "Requirement already satisfied: enum34; python_version == \"2.7\" in /usr/local/lib/python2.7/dist-packages (from traitlets>=4.2->ipython->watermark) (1.1.6)\n",
            "Requirement already satisfied: ipython-genutils in /usr/local/lib/python2.7/dist-packages (from traitlets>=4.2->ipython->watermark) (0.2.0)\n",
            "Requirement already satisfied: wcwidth in /usr/local/lib/python2.7/dist-packages (from prompt-toolkit<2.0.0,>=1.0.4->ipython->watermark) (0.1.7)\n",
            "Installing collected packages: watermark\n",
            "Successfully installed watermark-2.0.2\n",
            "Path at terminal when executing this file\n",
            "/content\n",
            "\n",
            "2020-02-17 \n",
            "\n",
            "CPython 2.7.17\n",
            "IPython 5.5.0\n",
            "\n",
            "pandas 0.24.2\n",
            "scipy 1.2.2\n",
            "matplotlib 2.2.4\n",
            "\n",
            "compiler   : GCC 7.4.0\n",
            "system     : Linux\n",
            "release    : 4.14.137+\n",
            "machine    : x86_64\n",
            "processor  : x86_64\n",
            "CPU cores  : 2\n",
            "interpreter: 64bit\n"
          ],
          "name": "stdout"
        }
      ]
    },
    {
      "cell_type": "markdown",
      "metadata": {
        "id": "62RU0LhM1we4",
        "colab_type": "text"
      },
      "source": [
        "# Docker commands building a CPU based docker"
      ]
    },
    {
      "cell_type": "markdown",
      "metadata": {
        "id": "GxngZMhI1we5",
        "colab_type": "text"
      },
      "source": [
        "## Install Docker"
      ]
    },
    {
      "cell_type": "markdown",
      "metadata": {
        "id": "1b4OkSr41we6",
        "colab_type": "text"
      },
      "source": [
        "### Linux\n",
        "apt-get install docker.io\n",
        "\n",
        "### OSX\n",
        "https://download.docker.com/mac/stable/Docker.dmg\n",
        "\n",
        "#### OR\n",
        "\n",
        "##### Install Homebrew\n",
        "ruby -e \"$(curl -fsSL https://raw.githubusercontent.com/Homebrew/install/master/install)\"\n",
        "#####  Install Cask\n",
        "brew install caskroom/cask/brew-cask\n",
        "##### Install docker toolbox\n",
        "brew cask install docker-toolbox"
      ]
    },
    {
      "cell_type": "markdown",
      "metadata": {
        "id": "d-5YcwL21we7",
        "colab_type": "text"
      },
      "source": [
        "## To allow your user to run docker commands without the sudo prefix"
      ]
    },
    {
      "cell_type": "markdown",
      "metadata": {
        "id": "V80Ol4SN1we8",
        "colab_type": "raw"
      },
      "source": [
        "sudo usermod -aG docker xxx"
      ]
    },
    {
      "cell_type": "markdown",
      "metadata": {
        "id": "cTkIfzjX1we9",
        "colab_type": "text"
      },
      "source": [
        "## Base Image"
      ]
    },
    {
      "cell_type": "code",
      "metadata": {
        "id": "R79Q6raE1we_",
        "colab_type": "code",
        "colab": {},
        "outputId": "5e456c06-6fef-4485-fbd7-b7454b376dcd"
      },
      "source": [
        "Base images are images that have no parent image, usually images with an OS like ubuntu, busybox or debian.\n",
        "We start with specifying our base image. Use the FROM keyword to do that\n",
        "FROM ubuntu:16.04\n",
        "\n",
        "docker pull ubuntu:12.04"
      ],
      "execution_count": 0,
      "outputs": [
        {
          "output_type": "error",
          "ename": "SyntaxError",
          "evalue": "invalid syntax (<ipython-input-6-766aaf4150c7>, line 1)",
          "traceback": [
            "\u001b[0;36m  File \u001b[0;32m\"<ipython-input-6-766aaf4150c7>\"\u001b[0;36m, line \u001b[0;32m1\u001b[0m\n\u001b[0;31m    Base images are images that have no parent image, usually images with an OS like ubuntu, busybox or debian.\u001b[0m\n\u001b[0m              ^\u001b[0m\n\u001b[0;31mSyntaxError\u001b[0m\u001b[0;31m:\u001b[0m invalid syntax\n"
          ]
        }
      ]
    },
    {
      "cell_type": "markdown",
      "metadata": {
        "id": "Ew5OaYLP1wfD",
        "colab_type": "text"
      },
      "source": [
        "## The next step usually is to write the commands of copying the files and installing the dependencies."
      ]
    },
    {
      "cell_type": "markdown",
      "metadata": {
        "id": "Bb3cJkDQ1wfE",
        "colab_type": "text"
      },
      "source": [
        "## Install TensorFlow CPU version from central repo"
      ]
    },
    {
      "cell_type": "code",
      "metadata": {
        "id": "crpkAKF71wfG",
        "colab_type": "code",
        "colab": {}
      },
      "source": [
        "\n",
        "RUN pip --no-cache-dir install \\\n",
        "    http://storage.googleapis.com/tensorflow/linux/cpu/tensorflow-0.0.0-cp27-none-linux_x86_64.whl"
      ],
      "execution_count": 0,
      "outputs": []
    },
    {
      "cell_type": "markdown",
      "metadata": {
        "id": "ABKjI0jf1wfK",
        "colab_type": "text"
      },
      "source": [
        "## Pick up TF dependencies"
      ]
    },
    {
      "cell_type": "code",
      "metadata": {
        "id": "5N3hqcRy1wfL",
        "colab_type": "code",
        "colab": {}
      },
      "source": [
        "\n",
        "RUN apt-get update && apt-get install -y --no-install-recommends \\\n",
        "        build-essential \\\n",
        "        curl \\\n",
        "        libfreetype6-dev \\\n",
        "        libpng12-dev \\\n",
        "        libzmq3-dev \\\n",
        "        pkg-config \\\n",
        "        python \\\n",
        "        python-dev \\\n",
        "        rsync \\\n",
        "        software-properties-common \\\n",
        "        unzip \\\n",
        "        && \\\n",
        "    apt-get clean && \\\n",
        "    rm -rf /var/lib/apt/lists/*"
      ],
      "execution_count": 0,
      "outputs": []
    },
    {
      "cell_type": "markdown",
      "metadata": {
        "id": "bWUjikVc1wfO",
        "colab_type": "text"
      },
      "source": [
        "## Install PIP"
      ]
    },
    {
      "cell_type": "code",
      "metadata": {
        "id": "dwnD_H7x1wfP",
        "colab_type": "code",
        "colab": {}
      },
      "source": [
        "RUN curl -O https://bootstrap.pypa.io/get-pip.py && \\\n",
        "    python get-pip.py && \\\n",
        "    rm get-pip.py"
      ],
      "execution_count": 0,
      "outputs": []
    },
    {
      "cell_type": "markdown",
      "metadata": {
        "id": "xzN0YLll1wfV",
        "colab_type": "text"
      },
      "source": [
        "## Install Python libs"
      ]
    },
    {
      "cell_type": "code",
      "metadata": {
        "id": "d4-hPXxD1wfW",
        "colab_type": "code",
        "colab": {}
      },
      "source": [
        "RUN pip --no-cache-dir install \\\n",
        "        ipykernel \\\n",
        "        jupyter \\\n",
        "        matplotlib \\\n",
        "        numpy \\\n",
        "        scipy \\\n",
        "        sklearn \\\n",
        "        pandas \\\n",
        "        Pillow \\\n",
        "        && \\\n",
        "    python -m ipykernel.kernelspec"
      ],
      "execution_count": 0,
      "outputs": []
    },
    {
      "cell_type": "markdown",
      "metadata": {
        "id": "k0SizAnN1wfZ",
        "colab_type": "text"
      },
      "source": [
        "## Set up our notebook config\n"
      ]
    },
    {
      "cell_type": "code",
      "metadata": {
        "id": "K3J7sfKL1wfa",
        "colab_type": "code",
        "colab": {}
      },
      "source": [
        "COPY jupyter_notebook_config.py /root/.jupyter/"
      ],
      "execution_count": 0,
      "outputs": []
    },
    {
      "cell_type": "markdown",
      "metadata": {
        "id": "kTmBsYRQ1wfd",
        "colab_type": "text"
      },
      "source": [
        "## Open ports"
      ]
    },
    {
      "cell_type": "code",
      "metadata": {
        "id": "WtAxzO3m1wfe",
        "colab_type": "code",
        "colab": {}
      },
      "source": [
        "# TensorBoard\n",
        "EXPOSE 6006\n",
        "# IPython\n",
        "EXPOSE 8888"
      ],
      "execution_count": 0,
      "outputs": []
    },
    {
      "cell_type": "markdown",
      "metadata": {
        "id": "HCvXytnw1wfh",
        "colab_type": "text"
      },
      "source": [
        "## Jupyter config"
      ]
    },
    {
      "cell_type": "code",
      "metadata": {
        "id": "KPqu4DC21wfi",
        "colab_type": "code",
        "colab": {}
      },
      "source": [
        "# jupyter_notebook_config.py\n",
        "\n",
        "import os\n",
        "from IPython.lib import passwd\n",
        "\n",
        "c.NotebookApp.ip = '*'\n",
        "c.NotebookApp.port = int(os.getenv('PORT', 8888))\n",
        "c.NotebookApp.open_browser = False\n",
        "\n",
        "# sets a password if PASSWORD is set in the environment\n",
        "if 'PASSWORD' in os.environ:\n",
        "  c.NotebookApp.password = passwd(os.environ['PASSWORD'])\n",
        "  del os.environ['PASSWORD']\n"
      ],
      "execution_count": 0,
      "outputs": []
    },
    {
      "cell_type": "markdown",
      "metadata": {
        "id": "dV3Jbz2t1wfl",
        "colab_type": "text"
      },
      "source": [
        "## Docker components\n",
        "Docker consists of the following components:\n",
        "\n",
        "Images\n",
        "\n",
        "Containers\n",
        "\n",
        "Daemon\n",
        "\n",
        "Clients\n",
        "\n",
        "Registries\n",
        "\n",
        "##  Images\n",
        "Images are read-only templates which provide functionality for running an instance of this image (container). An example for a image is the latest release of Ubuntu. Images are defined as layers, for example, you can add Java to the Ubuntu image and get another image based on this.\n",
        "\n",
        "The Docker hub provides lot of pre-configured images. You can modify existing images and save these modifications as new image.\n",
        "\n",
        "##  Containers\n",
        "Container are the started components based on images. They contain the actual application and dependencies but share the same kernel. They can be started, stopped, paused, deleted. Containers are immutable and disposable.\n",
        "\n",
        "##  Docker Daemon\n",
        "Is used to manage the container. It runs natively on Linux and inside a VM on Windows and Mac OS X. To start it use the docker command.\n",
        "\n",
        "##  Docker Clients\n",
        "Clients (CLI, IDE) run on host VM. They provide the tools to interact with container, i.e., to start them.\n",
        "\n",
        "##  Registries\n",
        "Images are saved in a registry and have an ID with consists of a repository and a tag. For example, fedora:22, is an image which contains the Fedora 22 OS from the fedora repository.\n",
        "\n",
        "To use an image you have to pull it from a registry, to share an image with others you have to push it to one. The default Docker registry is the Docker Hub. You can upload your personal images to Github, in this case you add your user name as prefix to the image, e.g., vogella/fedore:22\n"
      ]
    },
    {
      "cell_type": "markdown",
      "metadata": {
        "id": "gOfUO_Fb1wfm",
        "colab_type": "text"
      },
      "source": [
        "# Docker commands - after the docker script is ready"
      ]
    },
    {
      "cell_type": "markdown",
      "metadata": {
        "id": "0HF5cMBV1wfn",
        "colab_type": "text"
      },
      "source": [
        "## Search for a docker image"
      ]
    },
    {
      "cell_type": "code",
      "metadata": {
        "id": "3ytoJtul1wfo",
        "colab_type": "code",
        "colab": {}
      },
      "source": [
        "root@xxx::~# docker search --stars=5 \"postgresql-9.3\"\n",
        "Flag --stars has been deprecated, use --filter=stars=3 instead\n",
        "NAME                     DESCRIPTION                     STARS     OFFICIAL   AUTOMATED\n",
        "helmi03/docker-postgis   PostGIS 2.1 in PostgreSQL 9.3   24                   [OK]\n"
      ],
      "execution_count": 0,
      "outputs": []
    },
    {
      "cell_type": "markdown",
      "metadata": {
        "id": "nyH-En8W1wfr",
        "colab_type": "text"
      },
      "source": [
        "## Build an image"
      ]
    },
    {
      "cell_type": "code",
      "metadata": {
        "id": "en74gYOP1wfs",
        "colab_type": "code",
        "colab": {}
      },
      "source": [
        "docker build -t xxx -f Dockerfile.cpu ."
      ],
      "execution_count": 0,
      "outputs": []
    },
    {
      "cell_type": "markdown",
      "metadata": {
        "id": "B-m5VJ051wfv",
        "colab_type": "text"
      },
      "source": [
        "## View available images"
      ]
    },
    {
      "cell_type": "code",
      "metadata": {
        "id": "JH2HBtA01wfw",
        "colab_type": "code",
        "colab": {}
      },
      "source": [
        "root@xxx:~# docker images\n",
        "REPOSITORY                          TAG                     IMAGE ID            CREATED              VIRTUAL SIZE\n",
        "xxx                                 latest                  3871333c6375        5 weeks ago          5.146 GB\n"
      ],
      "execution_count": 0,
      "outputs": []
    },
    {
      "cell_type": "code",
      "metadata": {
        "id": "wPhY7-RX1wf2",
        "colab_type": "code",
        "colab": {}
      },
      "source": [
        "root@xxx:~# docker images\n",
        "REPOSITORY             TAG                 IMAGE ID            CREATED             SIZE\n",
        "docker-airflow         latest              8117652bf8e8        7 weeks ago         1.22 GB\n",
        "debian                 jessie              8cedef9d7368        2 months ago        123 MB\n",
        "tylerfowler/superset   latest              224639f0ff97        4 months ago        879 MB\n",
        "cloudera/clusterdock   latest              3e15a0e12577        8 months ago        463 MB\n",
        "zhicwu/presto          latest              a1fe6f0241a4        12 months ago       2.05 GB"
      ],
      "execution_count": 0,
      "outputs": []
    },
    {
      "cell_type": "markdown",
      "metadata": {
        "id": "DkwoRr821wf5",
        "colab_type": "text"
      },
      "source": [
        "## Stop all docker containers - Bash"
      ]
    },
    {
      "cell_type": "code",
      "metadata": {
        "id": "p_9Ll2lA1wf6",
        "colab_type": "code",
        "colab": {}
      },
      "source": [
        " \n",
        "#!/bin/bash\n",
        "# Delete all containers\n",
        "docker rm $(docker ps -a -q)\n",
        "# Delete all images\n",
        "docker rmi $(docker images -q)"
      ],
      "execution_count": 0,
      "outputs": []
    },
    {
      "cell_type": "code",
      "metadata": {
        "id": "YJIicrEX1wf9",
        "colab_type": "code",
        "colab": {}
      },
      "source": [
        "# Delete all stopped containers\n",
        "docker rm $( docker ps -q -f status=exited)\n",
        "# Delete all dangling (unused) images\n",
        "docker rmi $( docker images -q -f dangling=true)"
      ],
      "execution_count": 0,
      "outputs": []
    },
    {
      "cell_type": "markdown",
      "metadata": {
        "id": "2Sd8cz5I1wgB",
        "colab_type": "text"
      },
      "source": [
        "## \"Login\" into a container"
      ]
    },
    {
      "cell_type": "code",
      "metadata": {
        "id": "d-6eLg8Q1wgB",
        "colab_type": "code",
        "colab": {}
      },
      "source": [
        "docker exec -it <containerIdOrName> bash\n",
        "( Docker version 1.3 or greater)\n"
      ],
      "execution_count": 0,
      "outputs": []
    },
    {
      "cell_type": "code",
      "metadata": {
        "id": "FLN_gAWk1wgE",
        "colab_type": "code",
        "colab": {}
      },
      "source": [
        "docker network ls"
      ],
      "execution_count": 0,
      "outputs": []
    },
    {
      "cell_type": "markdown",
      "metadata": {
        "id": "JHLS_3hT1wgI",
        "colab_type": "text"
      },
      "source": [
        "# References\n",
        "https://prakhar.me/docker-curriculum/\n"
      ]
    },
    {
      "cell_type": "markdown",
      "metadata": {
        "id": "I2-O4bd-1wgJ",
        "colab_type": "text"
      },
      "source": [
        "# Verbatim bash script"
      ]
    },
    {
      "cell_type": "code",
      "metadata": {
        "id": "gUNlK2MP1wgJ",
        "colab_type": "code",
        "colab": {}
      },
      "source": [
        "ssh-keygen -t rsa -b 4096 -C \"xxx@gmail.com\"\n",
        "cat /home/xxx/.ssh/id_rsa.pub\n"
      ],
      "execution_count": 0,
      "outputs": []
    },
    {
      "cell_type": "code",
      "metadata": {
        "id": "QoZc4ha71wgO",
        "colab_type": "code",
        "colab": {}
      },
      "source": [
        "docker run -it -p 5555:5555 -p 7842:7842 -p 8787:8787 -p 8786:8786 -p 8788:8788 -v ~/dev/:/root/sharedfolder  XXX bash"
      ],
      "execution_count": 0,
      "outputs": []
    }
  ]
}